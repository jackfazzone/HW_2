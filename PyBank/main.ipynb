{
 "metadata": {
  "language_info": {
   "codemirror_mode": {
    "name": "ipython",
    "version": 3
   },
   "file_extension": ".py",
   "mimetype": "text/x-python",
   "name": "python",
   "nbconvert_exporter": "python",
   "pygments_lexer": "ipython3",
   "version": "3.8.3-final"
  },
  "orig_nbformat": 2,
  "kernelspec": {
   "name": "python_defaultSpec_1600749877891",
   "display_name": "Python 3.8.3 64-bit ('base': conda)"
  }
 },
 "nbformat": 4,
 "nbformat_minor": 2,
 "cells": [
  {
   "cell_type": "code",
   "execution_count": 14,
   "metadata": {
    "tags": []
   },
   "outputs": [
    {
     "output_type": "stream",
     "name": "stdout",
     "text": "Financial Analysis\n---------------------------\nTotal Monts: 86\nAverage Change $-2315.12\nGreatest Increase in Profits Feb-2012 ($1926159)\nGreatest Decrease in Profits:Sep-2013 ($-2196167)\n\n"
    }
   ],
   "source": [
    "# import file with pathlib\n",
    "from pathlib import Path\n",
    "import csv\n",
    "\n",
    "filepath = Path(\"../PyBank/hw_02-Python_Instructions_PyBank_Resources_budget_data.csv\")\n",
    "export_file = Path(\"../PyBank/final_analysis.txt\")\n",
    "\n",
    "# open csv file\n",
    "with open(filepath, \"r\") as budget_data:\n",
    "    budget_csv_reader = csv.reader(budget_data)\n",
    "\n",
    "    # set header and define variables\n",
    "    header = next(budget_csv_reader)\n",
    "\n",
    "    total_months = 0\n",
    "    net_profit = 0\n",
    "    greatest_increase = 0\n",
    "    greatest_decrease = 0\n",
    "    months_list = []\n",
    "    monthly_changes =[]\n",
    "    last_profit = 0\n",
    "    \n",
    "    # iterate through dataset\n",
    "    for row in budget_csv_reader:\n",
    "        # add one to total month count for each month and profit entry\n",
    "        total_months += 1\n",
    "        # specify index for months and create list of months \n",
    "        month = row[0]\n",
    "        months_list.append(month)\n",
    "        # specify index for profits\n",
    "        monthly_profit = int(row[1])\n",
    "        # calculate difference in profit between each month to that before it\n",
    "        monthly_change = monthly_profit - last_profit\n",
    "        # create a list of the changes in this month-to-month profit\n",
    "        monthly_changes.append(monthly_change)\n",
    "        # set the profit value just used as previous profit for the next iteration\n",
    "        last_profit = monthly_profit\n",
    "    \n",
    "        # exclude first month from greatest change comparsions, as it will have subtracted zero rather than the true previous monthly profit\n",
    "        if monthly_change == monthly_profit:\n",
    "            pass\n",
    "            # Citation: https://docs.python.org/2.0/ref/pass.html\n",
    "        else:\n",
    "            # compare change in monthly profit with those before to determine if greatest increase so far\n",
    "            if monthly_change > greatest_increase:\n",
    "                # if greatest so far, set as greatest increase\n",
    "                greatest_increase = monthly_change\n",
    "                # extrapolate the month on which the greatest increase in profit occurred\n",
    "                greatest_increase_month = months_list[monthly_changes.index(monthly_change)]\n",
    "            # if not greatest increase compare change in monthly profit with those before to determine if greatest decrease so far\n",
    "            elif monthly_change < greatest_decrease:\n",
    "                # if greatest so far, set as greatest decrease\n",
    "                greatest_decrease = monthly_change\n",
    "                # extrapolate the month on which the greatest decrease in profit occurred\n",
    "                greatest_decrease_month = months_list[monthly_changes.index(monthly_change)]\n",
    "            else:\n",
    "                pass\n",
    "\n",
    "# calculate average monthly change in profits, excluding the first month in the dataset\n",
    "average_monthly_change = sum(monthly_changes[1:])/len(monthly_changes[1:])\n",
    "\n",
    "# set up final analysis for export\n",
    "Final_Analysis =(\n",
    "    f\"Financial Analysis\\n\"\n",
    "    f\"---------------------------\\n\"\n",
    "    f\"Total Monts: {len(months_list)}\\n\"\n",
    "    f\"Average Change ${round(average_monthly_change,2)}\\n\"\n",
    "    f\"Greatest Increase in Profits {greatest_increase_month} (${greatest_increase})\\n\"\n",
    "    f\"Greatest Decrease in Profits:{greatest_decrease_month} (${greatest_decrease})\\n\")\n",
    "print(Final_Analysis)\n",
    "\n",
    "# export file\n",
    "with open(export_file, \"w\") as text_file:\n",
    "     text_file.write (Final_Analysis)\n",
    "\n",
    "        "
   ]
  },
  {
   "cell_type": "code",
   "execution_count": null,
   "metadata": {},
   "outputs": [],
   "source": []
  }
 ]
}